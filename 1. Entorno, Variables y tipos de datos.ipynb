{
 "cells": [
  {
   "cell_type": "markdown",
   "metadata": {},
   "source": [
    "# Entorno de ejecución\n",
    "\n",
    "Esto es un Jupyter Notebook, los reconoces por la extensión `ipynb` (`IPython Notebook`).\n",
    "\n",
    "En los Jupyer Notebooks podemos usar celdas Markdown.\n",
    "\n",
    "En Markdown podemos poner:\n",
    "\n",
    "# Títulos\n",
    "\n",
    "## Subtítulos\n",
    "\n",
    "### Más niveles\n",
    "\n",
    "Podemos escribir listas de bullets:\n",
    "- Así **negritas** o así __negritas__.\n",
    "- Así *cursiva* o así _cursiva_.\n",
    "\n",
    "Listas numeradas:\n",
    "1. Formato tipo código (`Alt + 9 + 6`)\n",
    "2. Código Latex\n",
    "$$\\sum_{i=1}^n\\dfrac{n}{n-1}$$\n",
    "3. ~~Tachado~~ (`Alt Gr + *`)\n",
    "\n",
    "Para más información [ir a página](https://francisco3strada.files.wordpress.com/2017/04/sintaxis-de-markdown.pdf)"
   ]
  },
  {
   "cell_type": "markdown",
   "metadata": {},
   "source": [
    "# Comandos últiles\n",
    "Se encuentran en `Widgets` y debes estar seleccionando la celda por fuera.\n",
    "\n",
    "| Acción | Comando |\n",
    "|-----------|---------|\n",
    "|Convertir Celda a Markdown| `M`|\n",
    "|Convertir Celda Markdown con título| `1`|\n",
    "|Convertir Celda Markdown con subtítulo| `2`|\n",
    "|Insertar celda arriba| `A`|\n",
    "|Insertar celda abajo| `B`|\n",
    "|Cortar celda| `X`|\n",
    "|Ejecutar celda| `Ctrl + Enter`|\n",
    "|Ejecutar celda e insertar una debajo| `Ctrl + Shift + Enter`|"
   ]
  },
  {
   "cell_type": "markdown",
   "metadata": {},
   "source": [
    "# Python como calculadora\n",
    "\n",
    "| Operación | Símbolo |\n",
    "|:----------|:-------:|\n",
    "|Suma| `+`|\n",
    "|Resta| `-`|\n",
    "|División| `/`|\n",
    "|Multiplicación| `*`|\n",
    "|Elevar|`**`|\n",
    "|División entera| `//`|\n",
    "|Módulo| `%`|"
   ]
  },
  {
   "cell_type": "code",
   "execution_count": 1,
   "metadata": {},
   "outputs": [
    {
     "data": {
      "text/plain": [
       "5"
      ]
     },
     "execution_count": 1,
     "metadata": {},
     "output_type": "execute_result"
    }
   ],
   "source": [
    "2 + 3"
   ]
  },
  {
   "cell_type": "code",
   "execution_count": 2,
   "metadata": {},
   "outputs": [
    {
     "data": {
      "text/plain": [
       "-1"
      ]
     },
     "execution_count": 2,
     "metadata": {},
     "output_type": "execute_result"
    }
   ],
   "source": [
    "2 - 3"
   ]
  },
  {
   "cell_type": "code",
   "execution_count": 3,
   "metadata": {},
   "outputs": [
    {
     "data": {
      "text/plain": [
       "0.6666666666666666"
      ]
     },
     "execution_count": 3,
     "metadata": {},
     "output_type": "execute_result"
    }
   ],
   "source": [
    "2 / 3"
   ]
  },
  {
   "cell_type": "code",
   "execution_count": 4,
   "metadata": {},
   "outputs": [
    {
     "data": {
      "text/plain": [
       "6"
      ]
     },
     "execution_count": 4,
     "metadata": {},
     "output_type": "execute_result"
    }
   ],
   "source": [
    "2 * 3"
   ]
  },
  {
   "cell_type": "code",
   "execution_count": 8,
   "metadata": {},
   "outputs": [
    {
     "data": {
      "text/plain": [
       "8"
      ]
     },
     "execution_count": 8,
     "metadata": {},
     "output_type": "execute_result"
    }
   ],
   "source": [
    "2 ** 3"
   ]
  },
  {
   "cell_type": "code",
   "execution_count": 5,
   "metadata": {},
   "outputs": [
    {
     "data": {
      "text/plain": [
       "0"
      ]
     },
     "execution_count": 5,
     "metadata": {},
     "output_type": "execute_result"
    }
   ],
   "source": [
    "2 // 3"
   ]
  },
  {
   "cell_type": "code",
   "execution_count": 6,
   "metadata": {},
   "outputs": [
    {
     "data": {
      "text/plain": [
       "1"
      ]
     },
     "execution_count": 6,
     "metadata": {},
     "output_type": "execute_result"
    }
   ],
   "source": [
    "3 // 2"
   ]
  },
  {
   "cell_type": "code",
   "execution_count": 7,
   "metadata": {},
   "outputs": [
    {
     "data": {
      "text/plain": [
       "1"
      ]
     },
     "execution_count": 7,
     "metadata": {},
     "output_type": "execute_result"
    }
   ],
   "source": [
    "3 % 2"
   ]
  },
  {
   "cell_type": "markdown",
   "metadata": {},
   "source": [
    "# Función `print()`"
   ]
  },
  {
   "cell_type": "code",
   "execution_count": 9,
   "metadata": {},
   "outputs": [
    {
     "data": {
      "text/plain": [
       "0.75"
      ]
     },
     "execution_count": 9,
     "metadata": {},
     "output_type": "execute_result"
    }
   ],
   "source": [
    "1 / 3\n",
    "2 / 3\n",
    "3 / 4"
   ]
  },
  {
   "cell_type": "code",
   "execution_count": 10,
   "metadata": {},
   "outputs": [
    {
     "name": "stdout",
     "output_type": "stream",
     "text": [
      "0.3333333333333333 0.6666666666666666 0.75\n"
     ]
    }
   ],
   "source": [
    "print(1/3, 2/3, 3/4)"
   ]
  },
  {
   "cell_type": "markdown",
   "metadata": {},
   "source": [
    "**Nota**: ¡Puedes usar escritura multi-línea!"
   ]
  },
  {
   "cell_type": "code",
   "execution_count": null,
   "metadata": {},
   "outputs": [],
   "source": [
    "# aplica escritura multi-línea\n",
    "1 / 3\n",
    "2 / 3\n",
    "3 / 4"
   ]
  },
  {
   "cell_type": "markdown",
   "metadata": {},
   "source": [
    "**Parámetro** `sep`"
   ]
  },
  {
   "cell_type": "code",
   "execution_count": 11,
   "metadata": {},
   "outputs": [
    {
     "name": "stdout",
     "output_type": "stream",
     "text": [
      "0.3333333333333333,0.6666666666666666,0.75\n"
     ]
    }
   ],
   "source": [
    "print(1/3, 2/3, 3/4, sep = ',')"
   ]
  },
  {
   "cell_type": "code",
   "execution_count": 12,
   "metadata": {},
   "outputs": [
    {
     "name": "stdout",
     "output_type": "stream",
     "text": [
      "0.3333333333333333\n",
      "0.6666666666666666\n",
      "0.75\n"
     ]
    }
   ],
   "source": [
    "print(1/3, 2/3, 3/4, sep = '\\n')"
   ]
  },
  {
   "cell_type": "markdown",
   "metadata": {},
   "source": [
    "# Variables y tipos de datos\n",
    "## Variables en Python\n",
    "Las variables en Python son como etiquetas (nombres) que se utilizan para almacenar información en la memoria de la computadora. Pueden contener números, texto, o cualquier otro tipo de dato. Para asignar un valor a una variable, simplemente se utiliza el operador **asignación** (`=`).\n",
    "\n",
    "Por ejemplo, si queremos almacenar la edad de una persona, podemos hacerlo de la siguiente manera:"
   ]
  },
  {
   "cell_type": "code",
   "execution_count": 13,
   "metadata": {},
   "outputs": [],
   "source": [
    "edad = 27"
   ]
  },
  {
   "cell_type": "markdown",
   "metadata": {},
   "source": [
    "Con esto a la variable `edad` le asignamos el valor de `27`., es decir, se reseva un espacio de memoria al cual podemos acceder por medio de la palabra `edad` y tiene almacenado el valor `27`.\n",
    "\n",
    "## Reglas para crear nombres de variables\n",
    "Los nombres de variables pueden contener letras (mayúsculas y minúsculas), números y guiones bajos (`_`).\n",
    "* Los nombres de variables no pueden empezar con un número.\n",
    "* No se pueden utilizar espacios en los nombres de variables.\n",
    "* Python distingue entre mayúsculas y minúsculas, por lo que `mi_variable` y `Mi_Variable` son consideradas diferentes.\n",
    "* No se pueden utilizar palabras reservadas de Python como nombres de variables (por ejemplo: `if`, `for`, `while`, etc.).\n",
    "* Se recomienda utilizar nombres descriptivos y significativos para las variables para facilitar la comprensión del código.\n",
    "* Evitar usar caracteres especiales como `!` `@` `#` etc., en los nombres de variables.\n",
    "* Es una buena práctica utilizar nombres en minúsculas para las variables y separar palabras con guiones bajos (snake_case) para mejorar la legibilidad (por ejemplo: `mi_variable_importante`) o el camel_case (`miVariableImportante`)."
   ]
  },
  {
   "cell_type": "markdown",
   "metadata": {},
   "source": [
    "## Tipos de datos\n",
    "| Dato | Representación |\n",
    "|:-----|:--------------:|\n",
    "|Entero|`int`|\n",
    "|Decimal|`float`|\n",
    "|Cadena de caracteres|`str`|\n",
    "|Valor de verdad (_booleanos_)|`bool`|"
   ]
  },
  {
   "cell_type": "code",
   "execution_count": 14,
   "metadata": {},
   "outputs": [
    {
     "name": "stdout",
     "output_type": "stream",
     "text": [
      "Nombre Edgar Ruiz\n",
      "Edad 27\n",
      "Altura 1.69\n",
      "¿Es actuario?=True\n"
     ]
    }
   ],
   "source": [
    "altura = 1.69\n",
    "nombre = 'Edgar Ruiz' # lo mismo que \"Edgar Ruiz\"\n",
    "actuario = True\n",
    "\n",
    "print('Nombre', nombre)\n",
    "print('Edad', edad)\n",
    "print('Altura', altura)\n",
    "print('¿Es actuario?', actuario, sep = '=')"
   ]
  },
  {
   "cell_type": "markdown",
   "metadata": {},
   "source": [
    "## Interactuando con variables"
   ]
  },
  {
   "cell_type": "code",
   "execution_count": 16,
   "metadata": {},
   "outputs": [
    {
     "name": "stdout",
     "output_type": "stream",
     "text": [
      "Tendré 37 en 10 años\n"
     ]
    }
   ],
   "source": [
    "incremento_de_anios = 10\n",
    "print('Tendré', edad + incremento_de_anios, 'en', incremento_de_anios, 'años', sep = ' ')"
   ]
  },
  {
   "cell_type": "markdown",
   "metadata": {},
   "source": [
    "# Tipos de datos especiales\n",
    "Python tiene varios tipos especiales de datos los cuales son:\n",
    "1. Listas (`list`)\n",
    "2. Tuplas (`tuple`)\n",
    "3. Diccionarios (`dict`)\n",
    "4. Conjuntos (`set`)\n",
    "\n",
    "## Listas\n",
    "### Sintaxis\n",
    "\n",
    "    lista = [elemento_1, elemento_2, ..., elemento_n]\n",
    "    \n",
    "Sirven para almacenar múltiples valores no importando si son diferentes tipos de datos (¡inclusive listas!)\n",
    "\n",
    "Para acceder a los valores de las listas se hace por medio de un **índice**, el cual representa la posición en la lista.\n",
    "\n",
    "**Nota**: En Python la indexación empieza en `0`."
   ]
  },
  {
   "cell_type": "code",
   "execution_count": 17,
   "metadata": {},
   "outputs": [],
   "source": [
    "alumnos = ['Julio', 'Jazmín', 'Eduardo', 'Elisa']"
   ]
  },
  {
   "cell_type": "markdown",
   "metadata": {},
   "source": [
    "Función `type()` nos dice el tipo de dato."
   ]
  },
  {
   "cell_type": "code",
   "execution_count": 18,
   "metadata": {},
   "outputs": [
    {
     "data": {
      "text/plain": [
       "list"
      ]
     },
     "execution_count": 18,
     "metadata": {},
     "output_type": "execute_result"
    }
   ],
   "source": [
    "type(alumnos)"
   ]
  },
  {
   "cell_type": "code",
   "execution_count": 19,
   "metadata": {},
   "outputs": [
    {
     "data": {
      "text/plain": [
       "'Julio'"
      ]
     },
     "execution_count": 19,
     "metadata": {},
     "output_type": "execute_result"
    }
   ],
   "source": [
    "alumnos[0]"
   ]
  },
  {
   "cell_type": "code",
   "execution_count": 20,
   "metadata": {},
   "outputs": [
    {
     "data": {
      "text/plain": [
       "'Elisa'"
      ]
     },
     "execution_count": 20,
     "metadata": {},
     "output_type": "execute_result"
    }
   ],
   "source": [
    "alumnos[3]"
   ]
  },
  {
   "cell_type": "code",
   "execution_count": 21,
   "metadata": {},
   "outputs": [
    {
     "data": {
      "text/plain": [
       "'Elisa'"
      ]
     },
     "execution_count": 21,
     "metadata": {},
     "output_type": "execute_result"
    }
   ],
   "source": [
    "alumnos[-1]"
   ]
  },
  {
   "cell_type": "markdown",
   "metadata": {},
   "source": [
    "Diferentes tipos de datos"
   ]
  },
  {
   "cell_type": "code",
   "execution_count": 24,
   "metadata": {},
   "outputs": [],
   "source": [
    "lista = [[1,2,3], 'Hola mundo', True, False, [3.3, 2.1]]"
   ]
  },
  {
   "cell_type": "code",
   "execution_count": 25,
   "metadata": {},
   "outputs": [
    {
     "data": {
      "text/plain": [
       "'Hola mundo'"
      ]
     },
     "execution_count": 25,
     "metadata": {},
     "output_type": "execute_result"
    }
   ],
   "source": [
    "lista[1]"
   ]
  },
  {
   "cell_type": "code",
   "execution_count": 26,
   "metadata": {},
   "outputs": [
    {
     "data": {
      "text/plain": [
       "2.1"
      ]
     },
     "execution_count": 26,
     "metadata": {},
     "output_type": "execute_result"
    }
   ],
   "source": [
    "lista[-1][-1]"
   ]
  },
  {
   "cell_type": "markdown",
   "metadata": {},
   "source": [
    "### Modificar elementos\n",
    "Se modifican elementos asignando un nuevo valor por medio del índice.\n",
    "\n",
    "    lista[indice] = nuevo_elemento"
   ]
  },
  {
   "cell_type": "code",
   "execution_count": 30,
   "metadata": {},
   "outputs": [
    {
     "data": {
      "text/plain": [
       "[[1, 2, 3], 'Adiós Mundo', True, False, [3.3, 2.1]]"
      ]
     },
     "execution_count": 30,
     "metadata": {},
     "output_type": "execute_result"
    }
   ],
   "source": [
    "lista[1] = 'Adiós Mundo'\n",
    "lista"
   ]
  },
  {
   "cell_type": "markdown",
   "metadata": {},
   "source": [
    "### Slicing\n",
    "Nos permite obtener *rebanadas* de una lista.\n",
    "\n",
    "La **sintaxis** `lista[a:b]` nos dará los valores de las lista del **índice `a`** al **`b-1`**.\n",
    "\n",
    "La **sintaxis** `lista[:b]` nos dará los valores del **inicio** de la lista al **índice `b-1`**.\n",
    "\n",
    "La **sintaxis** `lista[a:]` nos dará los valores del **índice `a`** al **final** de la lista."
   ]
  },
  {
   "cell_type": "code",
   "execution_count": 23,
   "metadata": {},
   "outputs": [
    {
     "name": "stdout",
     "output_type": "stream",
     "text": [
      "[10, 8]\n",
      "[8, 6, 4]\n",
      "[10, 8]\n"
     ]
    }
   ],
   "source": [
    "calificaciones = [10, 8, 9, 10, 8, 6, 4]\n",
    "# primeros dos\n",
    "primeros_dos = calificaciones[:2]\n",
    "print(primeros_dos)\n",
    "# últimos tres\n",
    "ultimos_tres = calificaciones[-3:]\n",
    "print(ultimos_tres)\n",
    "# el cuarto y quinto\n",
    "cuarto_quinto = calificaciones[3:5]\n",
    "print(cuarto_quinto)"
   ]
  },
  {
   "cell_type": "code",
   "execution_count": 27,
   "metadata": {},
   "outputs": [
    {
     "data": {
      "text/plain": [
       "[4, 6, 8, 10, 9, 8, 10]"
      ]
     },
     "execution_count": 27,
     "metadata": {},
     "output_type": "execute_result"
    }
   ],
   "source": [
    "# truco útil\n",
    "calificaciones[::-1]"
   ]
  },
  {
   "cell_type": "markdown",
   "metadata": {},
   "source": [
    "**Voltear una lista**\n",
    "\n",
    "La expresión `lista[::-1]` en Python te devuelve una lista con los elementos en orden inverso debido a cómo funciona el slicing en Python.\n",
    "\n",
    "La notación de slicing en Python tiene la forma `lista[inicio:fin:paso]`, donde:\n",
    "\n",
    "inicio es el índice desde el cual comienza el slice (si no se especifica, se toma el primer elemento).\n",
    "fin es el índice en el que termina el slice (no se incluye este índice).\n",
    "paso es el intervalo entre elementos (si no se especifica, se toma el valor por defecto de 1).\n",
    "Cuando utilizas `[::-1]`, estás especificando un slice que comienza desde el primer elemento (inicio no se especifica), termina en el último elemento (ya que no se especifica fin), y tiene un paso de -1. Un paso de -1 indica que se debe recorrer la lista en dirección inversa."
   ]
  },
  {
   "cell_type": "markdown",
   "metadata": {},
   "source": [
    "### Método `append()`\n",
    "Los métodos son funciones que pueden realizar los objetos (en nuestro caso los objetos son las listas) y lo que hace es agregar un elemento al final de una lista.\n",
    "\n",
    "    lista.append(elemento)"
   ]
  },
  {
   "cell_type": "code",
   "execution_count": 28,
   "metadata": {},
   "outputs": [
    {
     "data": {
      "text/plain": [
       "['Julio', 'Jazmín', 'Eduardo', 'Elisa', 'Edgar']"
      ]
     },
     "execution_count": 28,
     "metadata": {},
     "output_type": "execute_result"
    }
   ],
   "source": [
    "alumnos.append('Edgar')\n",
    "alumnos"
   ]
  },
  {
   "cell_type": "markdown",
   "metadata": {},
   "source": [
    "## Tuplas\n",
    "Las tuplas son lo mismo que las listas pero **inmutables** lo que significa que no se puede:\n",
    "* Modificar elementos\n",
    "* Agregar o eliminar elementos\n",
    "\n",
    "    tupla = (elemento_1, elemento_2, ..., elemento_n)"
   ]
  },
  {
   "cell_type": "code",
   "execution_count": 31,
   "metadata": {},
   "outputs": [],
   "source": [
    "tupla = ('True', True, 10)"
   ]
  },
  {
   "cell_type": "code",
   "execution_count": 32,
   "metadata": {},
   "outputs": [
    {
     "data": {
      "text/plain": [
       "True"
      ]
     },
     "execution_count": 32,
     "metadata": {},
     "output_type": "execute_result"
    }
   ],
   "source": [
    "tupla[-2]"
   ]
  },
  {
   "cell_type": "code",
   "execution_count": 33,
   "metadata": {},
   "outputs": [
    {
     "data": {
      "text/plain": [
       "'True'"
      ]
     },
     "execution_count": 33,
     "metadata": {},
     "output_type": "execute_result"
    }
   ],
   "source": [
    "tupla[0]"
   ]
  },
  {
   "cell_type": "code",
   "execution_count": 34,
   "metadata": {},
   "outputs": [
    {
     "ename": "TypeError",
     "evalue": "'tuple' object does not support item assignment",
     "output_type": "error",
     "traceback": [
      "\u001b[1;31m---------------------------------------------------------------------------\u001b[0m",
      "\u001b[1;31mTypeError\u001b[0m                                 Traceback (most recent call last)",
      "\u001b[1;32m<ipython-input-34-7f28e608a096>\u001b[0m in \u001b[0;36m<module>\u001b[1;34m\u001b[0m\n\u001b[1;32m----> 1\u001b[1;33m \u001b[0mtupla\u001b[0m\u001b[1;33m[\u001b[0m\u001b[1;36m0\u001b[0m\u001b[1;33m]\u001b[0m \u001b[1;33m=\u001b[0m \u001b[1;32mTrue\u001b[0m\u001b[1;33m\u001b[0m\u001b[1;33m\u001b[0m\u001b[0m\n\u001b[0m",
      "\u001b[1;31mTypeError\u001b[0m: 'tuple' object does not support item assignment"
     ]
    }
   ],
   "source": [
    "tupla[0] = True"
   ]
  },
  {
   "cell_type": "markdown",
   "metadata": {},
   "source": [
    "## Diccionarios\n",
    "Un diccionario es un tipo de dato que permite almacenar pares de elementos, donde cada elemento tiene una **clave única** y un **valor asociado**. Esto significa que puedes acceder a un valor utilizando su clave, en lugar de depender de un índice numérico como en las listas.\n",
    "\n",
    "**Sintaxis**\n",
    "\n",
    "    diccionario = {\n",
    "                    clave_1:valor_1,\n",
    "                    clave_2:valor_2,\n",
    "                        ...\n",
    "                    clave_n:valor_n\n",
    "                   }"
   ]
  },
  {
   "cell_type": "code",
   "execution_count": 37,
   "metadata": {},
   "outputs": [],
   "source": [
    "clientes_edades = {'Mauricio':20, 'Javier':25, 'Regina':18}"
   ]
  },
  {
   "cell_type": "markdown",
   "metadata": {},
   "source": [
    "### Acceso y modificación\n",
    "Para acceder a un valor en un diccionario, se utiliza la clave correspondiente entre corchetes `[]`. Por ejemplo, para obtener el valor de la edad de un cliente, se utiliza `clientes_edades['nombre]`."
   ]
  },
  {
   "cell_type": "code",
   "execution_count": 38,
   "metadata": {},
   "outputs": [
    {
     "data": {
      "text/plain": [
       "25"
      ]
     },
     "execution_count": 38,
     "metadata": {},
     "output_type": "execute_result"
    }
   ],
   "source": [
    "clientes_edades['Javier']"
   ]
  },
  {
   "cell_type": "code",
   "execution_count": 39,
   "metadata": {},
   "outputs": [
    {
     "name": "stdout",
     "output_type": "stream",
     "text": [
      "18\n",
      "21\n"
     ]
    }
   ],
   "source": [
    "# modificando valores\n",
    "print(clientes_edades['Regina'])\n",
    "clientes_edades['Regina'] = 21\n",
    "print(clientes_edades['Regina'])"
   ]
  },
  {
   "cell_type": "markdown",
   "metadata": {},
   "source": [
    "## Conjuntos\n",
    "A diferencia de las listas o tuplas, los conjuntos no permiten elementos duplicados y no tienen un orden específico. Los conjuntos se definen utilizando llaves `{}`. Para crear un conjunto, se enumeran los elementos separados por comas entre las llaves."
   ]
  },
  {
   "cell_type": "code",
   "execution_count": 42,
   "metadata": {},
   "outputs": [],
   "source": [
    "conjunto = {1, 5, 1, 2, 3, 4}"
   ]
  },
  {
   "cell_type": "code",
   "execution_count": 43,
   "metadata": {},
   "outputs": [
    {
     "data": {
      "text/plain": [
       "{1, 2, 3, 4, 5}"
      ]
     },
     "execution_count": 43,
     "metadata": {},
     "output_type": "execute_result"
    }
   ],
   "source": [
    "conjunto"
   ]
  },
  {
   "cell_type": "markdown",
   "metadata": {},
   "source": [
    "**Características**\n",
    "* No permiten elementos duplicados. Si se intenta agregar un elemento que ya existe en el conjunto, no se producirá ningún cambio.\n",
    "* Los elementos no tienen un orden específico, por lo que no se puede acceder a ellos por su posición."
   ]
  },
  {
   "cell_type": "markdown",
   "metadata": {},
   "source": [
    "# Convertir un tipo de dato a otro\n",
    "Se pueden convertir de un tipo de dato a otro usando la función de se **representación**"
   ]
  },
  {
   "cell_type": "code",
   "execution_count": 44,
   "metadata": {},
   "outputs": [
    {
     "data": {
      "text/plain": [
       "True"
      ]
     },
     "execution_count": 44,
     "metadata": {},
     "output_type": "execute_result"
    }
   ],
   "source": [
    "bool('True')"
   ]
  },
  {
   "cell_type": "code",
   "execution_count": 45,
   "metadata": {},
   "outputs": [
    {
     "data": {
      "text/plain": [
       "tuple"
      ]
     },
     "execution_count": 45,
     "metadata": {},
     "output_type": "execute_result"
    }
   ],
   "source": [
    "type(tuple([1,2,3]))"
   ]
  },
  {
   "cell_type": "code",
   "execution_count": 46,
   "metadata": {},
   "outputs": [
    {
     "data": {
      "text/plain": [
       "8"
      ]
     },
     "execution_count": 46,
     "metadata": {},
     "output_type": "execute_result"
    }
   ],
   "source": [
    "int(8.9)"
   ]
  },
  {
   "cell_type": "code",
   "execution_count": 47,
   "metadata": {},
   "outputs": [
    {
     "data": {
      "text/plain": [
       "['P', 'y', 't', 'h', 'o', 'n']"
      ]
     },
     "execution_count": 47,
     "metadata": {},
     "output_type": "execute_result"
    }
   ],
   "source": [
    "list('Python')"
   ]
  },
  {
   "cell_type": "markdown",
   "metadata": {},
   "source": [
    "# Nota sobre los métodos\n",
    "Cada tipo de dato tiene sus propios métodos, es decir, sus propias funcionalidades."
   ]
  },
  {
   "cell_type": "code",
   "execution_count": 48,
   "metadata": {},
   "outputs": [
    {
     "data": {
      "text/plain": [
       "\"['P', 'y', 't', 'h', 'o', 'n']\""
      ]
     },
     "execution_count": 48,
     "metadata": {},
     "output_type": "execute_result"
    }
   ],
   "source": [
    "mi_lista = ['P', 'y', 't', 'h', 'o', 'n']\n",
    "str(mi_lista)"
   ]
  },
  {
   "cell_type": "code",
   "execution_count": 49,
   "metadata": {},
   "outputs": [
    {
     "data": {
      "text/plain": [
       "'Python'"
      ]
     },
     "execution_count": 49,
     "metadata": {},
     "output_type": "execute_result"
    }
   ],
   "source": [
    "''.join(mi_lista)"
   ]
  }
 ],
 "metadata": {
  "kernelspec": {
   "display_name": "Python 3",
   "language": "python",
   "name": "python3"
  },
  "language_info": {
   "codemirror_mode": {
    "name": "ipython",
    "version": 3
   },
   "file_extension": ".py",
   "mimetype": "text/x-python",
   "name": "python",
   "nbconvert_exporter": "python",
   "pygments_lexer": "ipython3",
   "version": "3.8.5"
  }
 },
 "nbformat": 4,
 "nbformat_minor": 4
}
