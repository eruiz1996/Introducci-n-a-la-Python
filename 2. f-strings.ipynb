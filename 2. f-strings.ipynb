{
 "cells": [
  {
   "cell_type": "markdown",
   "id": "73422df0",
   "metadata": {},
   "source": [
    "# Introducción a las `f-strings`\n",
    "Las `f-strings` (abreviatura de *formatted strings* o \"cadenas formateadas\") son una característica poderosa y conveniente en Python que te permiten incrustar expresiones dentro de cadenas de texto, lo que facilita la creación de cadenas dinámicas y personalizadas.\n",
    "\n",
    "## Ventajas de `f-strings`\n",
    "Sintaxis clara y concisa: Las f-strings utilizan una sintaxis sencilla y legible que facilita la comprensión del código.\n",
    "Evaluación de expresiones: Puedes incluir expresiones Python directamente dentro de una f-string para que se evalúen y muestren en el resultado final.\n",
    "\n",
    "Las f-strings se crean colocando una `'f'` antes de las comillas que delimitan la cadena. Dentro de una f-string, puedes incluir expresiones Python entre llaves `{}`. Estas expresiones se evaluarán y se insertarán en la cadena resultante."
   ]
  },
  {
   "cell_type": "code",
   "execution_count": 1,
   "id": "6f02f072",
   "metadata": {},
   "outputs": [
    {
     "name": "stdout",
     "output_type": "stream",
     "text": [
      "Hola, me llamo Edgar y tengo 27 años.\n"
     ]
    }
   ],
   "source": [
    "nombre = 'Edgar'\n",
    "edad = 27\n",
    "print(f'Hola, me llamo {nombre} y tengo {edad} años.')"
   ]
  },
  {
   "cell_type": "markdown",
   "id": "15b4831c",
   "metadata": {},
   "source": [
    "Los f-strings son la versión mejorada del método `format()` de los objetos tipo `str`."
   ]
  },
  {
   "cell_type": "code",
   "execution_count": 2,
   "id": "402278b2",
   "metadata": {},
   "outputs": [
    {
     "name": "stdout",
     "output_type": "stream",
     "text": [
      "Hola, me llamo Edgar y tengo 27 años.\n"
     ]
    }
   ],
   "source": [
    "print('Hola, me llamo {} y tengo {} años.'.format(nombre, edad))"
   ]
  },
  {
   "cell_type": "markdown",
   "id": "0ba59e3c",
   "metadata": {},
   "source": [
    "## Formateo de Números\n",
    "Las f-strings permiten formatear números para que se muestren de la manera que desees. Por ejemplo, si quieres mostrar un número con comas como separadores de miles y dos decimales, puedes hacerlo así:"
   ]
  },
  {
   "cell_type": "code",
   "execution_count": 3,
   "id": "04216fc3",
   "metadata": {},
   "outputs": [
    {
     "name": "stdout",
     "output_type": "stream",
     "text": [
      "El número formateado es: 12,340,891.25\n"
     ]
    }
   ],
   "source": [
    "numero = 12_340_891.2456\n",
    "print(f'El número formateado es: {numero:,.2f}')"
   ]
  },
  {
   "cell_type": "markdown",
   "id": "df8fd205",
   "metadata": {},
   "source": [
    "## Formateo de Texto\n",
    "También puedes utilizar f-strings para generar texto con formatos específicos. Por ejemplo, si deseas crear códigos consecutivos con ceros a la izquierda, puedes hacerlo de la siguiente manera:"
   ]
  },
  {
   "cell_type": "code",
   "execution_count": 4,
   "id": "2f4f78dc",
   "metadata": {},
   "outputs": [
    {
     "name": "stdout",
     "output_type": "stream",
     "text": [
      "Código: 001\n",
      "Código: 002\n",
      "Código: 003\n",
      "Código: 004\n",
      "Código: 005\n"
     ]
    }
   ],
   "source": [
    "for i in range(1, 6):\n",
    "    consecutivo = f'{i:03}'\n",
    "    print(f'Código: {consecutivo}')"
   ]
  },
  {
   "cell_type": "markdown",
   "id": "eba12cf0",
   "metadata": {},
   "source": [
    "# Casos prácticos\n",
    "1. Crea la función `mdp` que dada una cantidad te de la cantidad en millones de pesos (MDP) redondeado a dos decimales.\n",
    "2. Crea la función `mdd` que reciba una cantidad en moneda dólar y un tipo de cambio (por defecto 18), y devuelva la cantidad en millones de pesos con base en el tipo de cambio dado."
   ]
  },
  {
   "cell_type": "code",
   "execution_count": 10,
   "id": "3370f822",
   "metadata": {},
   "outputs": [
    {
     "data": {
      "text/plain": [
       "'231,123.99 MDP'"
      ]
     },
     "execution_count": 10,
     "metadata": {},
     "output_type": "execute_result"
    }
   ],
   "source": [
    "def mdp(cantidad):\n",
    "    return f'{cantidad/1_000_000:,.2f} MDP'\n",
    "\n",
    "mdp(231_123_987_123.1234)"
   ]
  },
  {
   "cell_type": "code",
   "execution_count": 14,
   "id": "9360112f",
   "metadata": {},
   "outputs": [],
   "source": [
    "def mdd(dolares, tipo_cambio = 18):\n",
    "    pesos = dolares * tipo_cambio\n",
    "    return mdp(pesos)"
   ]
  },
  {
   "cell_type": "code",
   "execution_count": 16,
   "id": "baa28bdd",
   "metadata": {},
   "outputs": [
    {
     "data": {
      "text/plain": [
       "'0.63 MDP'"
      ]
     },
     "execution_count": 16,
     "metadata": {},
     "output_type": "execute_result"
    }
   ],
   "source": [
    "mdd(35_000)"
   ]
  }
 ],
 "metadata": {
  "kernelspec": {
   "display_name": "Python 3 (ipykernel)",
   "language": "python",
   "name": "python3"
  },
  "language_info": {
   "codemirror_mode": {
    "name": "ipython",
    "version": 3
   },
   "file_extension": ".py",
   "mimetype": "text/x-python",
   "name": "python",
   "nbconvert_exporter": "python",
   "pygments_lexer": "ipython3",
   "version": "3.9.13"
  }
 },
 "nbformat": 4,
 "nbformat_minor": 5
}
