{
  "nbformat": 4,
  "nbformat_minor": 0,
  "metadata": {
    "colab": {
      "provenance": [],
      "authorship_tag": "ABX9TyMK4Bm0uBSHfuuBpnvyWClI",
      "include_colab_link": true
    },
    "kernelspec": {
      "name": "python3",
      "display_name": "Python 3"
    },
    "language_info": {
      "name": "python"
    }
  },
  "cells": [
    {
      "cell_type": "markdown",
      "metadata": {
        "id": "view-in-github",
        "colab_type": "text"
      },
      "source": [
        "<a href=\"https://colab.research.google.com/github/eruiz1996/Introducci-n-a-la-Python/blob/main/4_POO.ipynb\" target=\"_parent\"><img src=\"https://colab.research.google.com/assets/colab-badge.svg\" alt=\"Open In Colab\"/></a>"
      ]
    },
    {
      "cell_type": "markdown",
      "source": [
        "# Paradigmas de Programación\n",
        "Antes de entrar en detalle en la Programación Orientada a Objetos, es importante comprender los diferentes paradigmas de programación:\n",
        "\n",
        "## Programación Procedural\n",
        "\n",
        "Basada en **procedimientos** o **funciones**.\n",
        "El programa se **estructura** en una serie de funciones que manipulan datos.\n",
        "\n",
        "## Programación Orientada a Objetos (POO)\n",
        "\n",
        "Basada en la creación y manipulación de **objetos**.\n",
        "Los objetos **encapsulan datos** y **comportamientos**.\n",
        "\n",
        "## Programación Funcional\n",
        "\n",
        "Se enfoca en la **evaluación de funciones** y evita el cambio de estados y datos mutables.\n",
        "\n",
        "# POO: Definiciones básicas\n",
        "\n",
        "## Objetos y Clases\n",
        "En la POO, un **objeto** es una entidad que agrupa datos (atributos i.e. características propias del objeto) y comportamientos (métodos i.e. funcionalidades propias del objeto). Por ejemplo, un objeto perro puede tener atributos como *nombre*, *edad* y *raza*, y métodos como *ladrar* o *caminar*; un objeto carros tiene de atributos su *color*, *marca* y *modelo*, y métodos de *acelerar*, *encenderse* y *apagarse*.\n",
        "\n",
        "Una **clase** es una plantilla para crear objetos. Define los atributos y métodos que los objetos de esa clase tendrán.\n",
        "\n",
        "## Instanciación\n",
        "La **instanciación** es el *proceso de crear un objeto a partir de una clase*. Una vez que una clase ha sido definida, puedes crear múltiples instancias u objetos de esa clase.\n",
        "\n",
        "# Ejemplo\n",
        "Para entender mejor los conceptos antes mencionados vamos a crear una clase llamada `Coche`."
      ],
      "metadata": {
        "id": "vhM8D3L6T059"
      }
    },
    {
      "cell_type": "code",
      "source": [
        "class Coche():\n",
        "  pass"
      ],
      "metadata": {
        "id": "1DoMiCX0XHLc"
      },
      "execution_count": null,
      "outputs": []
    },
    {
      "cell_type": "markdown",
      "source": [
        "Ahora vamos a crear una instancia de dicha clase, es decir, crear un objeto llamado `primer_coche` a partir de la clase `Coche`."
      ],
      "metadata": {
        "id": "TUhJ4Q1BXSb6"
      }
    },
    {
      "cell_type": "code",
      "source": [
        "primer_coche = Coche()"
      ],
      "metadata": {
        "id": "D7gDzaYzXKll"
      },
      "execution_count": null,
      "outputs": []
    },
    {
      "cell_type": "markdown",
      "source": [
        "Ahora le vamos a dar los siguientes atributos\n",
        "* `color`: `'azul'`\n",
        "* `marca`: `'Ford'`\n",
        "* `modelo`: `80`\n",
        "\n",
        "Para dar atributos a los objetos hacemos uso de la notación punto (`.`)"
      ],
      "metadata": {
        "id": "PdpLywOpYCwd"
      }
    },
    {
      "cell_type": "code",
      "source": [
        "primer_coche.color = 'Azul'\n",
        "primer_coche.marca = 'Ford'\n",
        "primer_coche.modelo = 80\n",
        "\n",
        "# probamos\n",
        "print(f'Mi primer coche fue un {primer_coche.marca}, modelo {primer_coche.modelo} y color {primer_coche.color}')"
      ],
      "metadata": {
        "colab": {
          "base_uri": "https://localhost:8080/"
        },
        "id": "aTNAMd7RTej3",
        "outputId": "0977b077-127b-4fe1-aea1-81c15ce40980"
      },
      "execution_count": null,
      "outputs": [
        {
          "output_type": "stream",
          "name": "stdout",
          "text": [
            "Mi primer coche fue un Ford, modelo 80 y color Azul\n"
          ]
        }
      ]
    },
    {
      "cell_type": "code",
      "source": [
        "primer_coche.color = 'Gris'\n",
        "# probamos\n",
        "print(f'Mi primer coche fue un {primer_coche.marca}, modelo {primer_coche.modelo} y color {primer_coche.color}')"
      ],
      "metadata": {
        "colab": {
          "base_uri": "https://localhost:8080/"
        },
        "id": "RyIL_6C9ZB-t",
        "outputId": "bd479e4f-7329-401c-ca2e-39fe28995b22"
      },
      "execution_count": null,
      "outputs": [
        {
          "output_type": "stream",
          "name": "stdout",
          "text": [
            "Mi primer coche fue un Ford, modelo 80 y color Gris\n"
          ]
        }
      ]
    },
    {
      "cell_type": "markdown",
      "source": [
        "## Método `__init__`\n",
        "Ahora veamos el método constructor para dar la asignación de los atributos de manera automática."
      ],
      "metadata": {
        "id": "y-irowYSZTZY"
      }
    },
    {
      "cell_type": "code",
      "source": [
        "class Coche():\n",
        "\n",
        "  def __init__(self, color, marca, modelo):\n",
        "    self.color = color\n",
        "    self.marca = marca\n",
        "    self.modelo = modelo"
      ],
      "metadata": {
        "id": "tSJGyxLZZP4M"
      },
      "execution_count": null,
      "outputs": []
    },
    {
      "cell_type": "code",
      "source": [
        "segundo_coche = Coche('Rojo', 'Peugeot', 2000)"
      ],
      "metadata": {
        "id": "RAVXLsE4aCnG"
      },
      "execution_count": null,
      "outputs": []
    },
    {
      "cell_type": "code",
      "source": [
        "segundo_coche.color"
      ],
      "metadata": {
        "colab": {
          "base_uri": "https://localhost:8080/",
          "height": 35
        },
        "id": "Rv47qnIvaPRz",
        "outputId": "c76df161-0fdd-4f44-dd7e-c5c9dbfe5fff"
      },
      "execution_count": null,
      "outputs": [
        {
          "output_type": "execute_result",
          "data": {
            "text/plain": [
              "'Rojo'"
            ],
            "application/vnd.google.colaboratory.intrinsic+json": {
              "type": "string"
            }
          },
          "metadata": {},
          "execution_count": 8
        }
      ]
    },
    {
      "cell_type": "markdown",
      "source": [
        "## Método `__str__`\n",
        "Este método nos permite dar una descripción predeterminado a las instancias creadas a partir de una clase."
      ],
      "metadata": {
        "id": "GEFx6cJFgwsC"
      }
    },
    {
      "cell_type": "code",
      "source": [
        "class Coche():\n",
        "\n",
        "  def __init__(self, color, marca, modelo):\n",
        "    self.color = color\n",
        "    self.marca = marca\n",
        "    self.modelo = modelo\n",
        "\n",
        "  def __str__(self):\n",
        "    return f'Coche {self.marca} creado'"
      ],
      "metadata": {
        "id": "4QwkTKzVg_4j"
      },
      "execution_count": null,
      "outputs": []
    },
    {
      "cell_type": "code",
      "source": [
        "tercer_coche = Coche('Plateado', 'Tida', 2010)\n",
        "str(tercer_coche)"
      ],
      "metadata": {
        "colab": {
          "base_uri": "https://localhost:8080/",
          "height": 35
        },
        "id": "ii6PjIwbhOFL",
        "outputId": "19c81c6c-f412-4804-99a2-e66c7b8ffb1c"
      },
      "execution_count": null,
      "outputs": [
        {
          "output_type": "execute_result",
          "data": {
            "text/plain": [
              "'Coche Tida creado'"
            ],
            "application/vnd.google.colaboratory.intrinsic+json": {
              "type": "string"
            }
          },
          "metadata": {},
          "execution_count": 2
        }
      ]
    },
    {
      "cell_type": "markdown",
      "source": [
        "Además de los métodos especiales como `__init__` y `__str__` se pueden crear métodos propios.\n",
        "\n",
        "Hagamos un método para realizar la funcionalidad de encender un coche."
      ],
      "metadata": {
        "id": "CWcf_bYmjI4j"
      }
    },
    {
      "cell_type": "code",
      "source": [
        "class Coche():\n",
        "\n",
        "  def __init__(self, color, marca, modelo, encendido = False):\n",
        "    self.color = color\n",
        "    self.marca = marca\n",
        "    self.modelo = modelo\n",
        "    self.encendido = encendido\n",
        "\n",
        "  def __str__(self):\n",
        "    return f'Coche {self.marca} creado'\n",
        "\n",
        "  def encender(self):\n",
        "    if self.encendido:\n",
        "      print(f'El coche {self.color} ya estaba encendido')\n",
        "    else:\n",
        "      self.encendido = True\n",
        "      print(f'Coche {self.color} encendido')"
      ],
      "metadata": {
        "id": "s_wSXCEbhuTG"
      },
      "execution_count": null,
      "outputs": []
    },
    {
      "cell_type": "code",
      "source": [
        "c1 = Coche('Azul', 'Ford', 80)\n",
        "str(c1)"
      ],
      "metadata": {
        "colab": {
          "base_uri": "https://localhost:8080/",
          "height": 35
        },
        "id": "8sf7VSSViVGx",
        "outputId": "026f11a3-7d4c-4119-8197-4a5158cba846"
      },
      "execution_count": null,
      "outputs": [
        {
          "output_type": "execute_result",
          "data": {
            "text/plain": [
              "'Coche Ford creado'"
            ],
            "application/vnd.google.colaboratory.intrinsic+json": {
              "type": "string"
            }
          },
          "metadata": {},
          "execution_count": 8
        }
      ]
    },
    {
      "cell_type": "code",
      "source": [
        "c1.encender()"
      ],
      "metadata": {
        "colab": {
          "base_uri": "https://localhost:8080/"
        },
        "id": "ljy26OZJijz4",
        "outputId": "0b24c686-0d50-40a7-c264-564b586f7ad7"
      },
      "execution_count": null,
      "outputs": [
        {
          "output_type": "stream",
          "name": "stdout",
          "text": [
            "Coche Azul encendido\n"
          ]
        }
      ]
    },
    {
      "cell_type": "code",
      "source": [
        "c1.encender()"
      ],
      "metadata": {
        "colab": {
          "base_uri": "https://localhost:8080/"
        },
        "id": "hMf8jjfcjCgo",
        "outputId": "9a74f662-c21b-4c73-cd5e-f63fa932e996"
      },
      "execution_count": null,
      "outputs": [
        {
          "output_type": "stream",
          "name": "stdout",
          "text": [
            "El coche Azul ya estaba encendido\n"
          ]
        }
      ]
    },
    {
      "cell_type": "markdown",
      "source": [
        "Por último, vamos a incorporar el método `kilometraje` el cual nos imprimirá la cantidad de kilómetros recorridos y tendrá un parámetro opcional para añadir más kilómetros.\n",
        "\n",
        "Este método dependerá de si el coche se encuentra encendido.\n",
        "\n"
      ],
      "metadata": {
        "id": "hgcwYm89nuuz"
      }
    },
    {
      "cell_type": "code",
      "source": [
        "class Coche():\n",
        "\n",
        "  def __init__(self, color, marca, modelo, km_recorridos = 0, encendido = False):\n",
        "    self.color = color\n",
        "    self.marca = marca\n",
        "    self.modelo = modelo\n",
        "    self.km_recorridos = km_recorridos\n",
        "    self.encendido = encendido\n",
        "\n",
        "  def __str__(self):\n",
        "    return f'Coche {self.marca} creado'\n",
        "\n",
        "  def encender(self):\n",
        "    if self.encendido:\n",
        "      print(f'El coche {self.color} ya estaba encendido')\n",
        "    else:\n",
        "      self.encendido = True\n",
        "      print(f'Coche {self.color} encendido')\n",
        "\n",
        "  def kilometraje(self, cantidad_recorrida = 0):\n",
        "    if self.encendido:\n",
        "      self.km_recorridos += cantidad_recorrida\n",
        "      print(f'Después de recorrer {cantidad_recorrida} km tienes {self.km_recorridos:,} km en tu kilometraje')\n",
        "    else:\n",
        "      print('¡Debes encender el vehículo primero!')"
      ],
      "metadata": {
        "id": "9erxfiezl9JC"
      },
      "execution_count": null,
      "outputs": []
    },
    {
      "cell_type": "code",
      "source": [
        "c1 = Coche('Rojo', 'Honda', 2012, 1_200)\n",
        "c1.kilometraje()"
      ],
      "metadata": {
        "colab": {
          "base_uri": "https://localhost:8080/"
        },
        "id": "QMlS2xEVmoRI",
        "outputId": "16961420-86d5-466a-caf4-7c162922e9fe"
      },
      "execution_count": null,
      "outputs": [
        {
          "output_type": "stream",
          "name": "stdout",
          "text": [
            "¡Debes encender el vehículo primero!\n"
          ]
        }
      ]
    },
    {
      "cell_type": "code",
      "source": [
        "c1.encender()\n",
        "c1.kilometraje()"
      ],
      "metadata": {
        "colab": {
          "base_uri": "https://localhost:8080/"
        },
        "id": "_5caquBXm5lv",
        "outputId": "c56e8d05-a11f-4d67-d779-5fa1253132a9"
      },
      "execution_count": null,
      "outputs": [
        {
          "output_type": "stream",
          "name": "stdout",
          "text": [
            "Coche Rojo encendido\n",
            "Después de recorrer 0 km tienes 1,200 km en tu kilometraje\n"
          ]
        }
      ]
    },
    {
      "cell_type": "code",
      "source": [
        "c1.kilometraje(2_000)"
      ],
      "metadata": {
        "colab": {
          "base_uri": "https://localhost:8080/"
        },
        "id": "_6q0hZqtm-Cm",
        "outputId": "51ff0f14-8b92-4b04-b985-acbcee9335a8"
      },
      "execution_count": null,
      "outputs": [
        {
          "output_type": "stream",
          "name": "stdout",
          "text": [
            "Después de recorrer 2000 km tienes 3,200 km en tu kilometraje\n"
          ]
        }
      ]
    },
    {
      "cell_type": "markdown",
      "source": [
        "# Herencia\n",
        "La **herencia** en la POO es un concepto fundamental que permite a una clase heredar atributos y métodos de otra clase existente. En Python, esto se logra mediante la creación de una nueva clase, llamada **subclase**, que toma como base una clase ya existente, conocida como **superclase**. La subclase tiene acceso a todos los atributos y métodos de la superclase y puede agregar su propia funcionalidad adicional o sobrescribir el comportamiento existente según sea necesario. Esto promueve la reutilización de código y facilita la organización jerárquica de las clases en un programa."
      ],
      "metadata": {
        "id": "6HDa06Fnoun_"
      }
    },
    {
      "cell_type": "code",
      "source": [
        "class Moto(Coche):\n",
        "  pass"
      ],
      "metadata": {
        "id": "RSxYbJ42o6Qu"
      },
      "execution_count": null,
      "outputs": []
    },
    {
      "cell_type": "code",
      "source": [
        "Lisa = Moto('Negra', 'Italika', 2022)"
      ],
      "metadata": {
        "id": "7uxZymPnpAV-"
      },
      "execution_count": null,
      "outputs": []
    },
    {
      "cell_type": "code",
      "source": [
        "Lisa.encender()\n",
        "Lisa.kilometraje()"
      ],
      "metadata": {
        "colab": {
          "base_uri": "https://localhost:8080/"
        },
        "id": "mq_eprqkpL_V",
        "outputId": "b569864c-13a2-4ddc-8175-b93e33856a1d"
      },
      "execution_count": null,
      "outputs": [
        {
          "output_type": "stream",
          "name": "stdout",
          "text": [
            "Coche Negra encendido\n",
            "Después de recorrer 0 km tienes 0 km en tu kilometraje\n"
          ]
        }
      ]
    },
    {
      "cell_type": "code",
      "source": [
        "Lisa.kilometraje(1000)"
      ],
      "metadata": {
        "colab": {
          "base_uri": "https://localhost:8080/"
        },
        "id": "m4i1fN5bpQtd",
        "outputId": "f3fa89db-ba49-415a-9c63-8df48b008a0e"
      },
      "execution_count": null,
      "outputs": [
        {
          "output_type": "stream",
          "name": "stdout",
          "text": [
            "Después de recorrer 1000 km tienes 1,000 km en tu kilometraje\n"
          ]
        }
      ]
    },
    {
      "cell_type": "code",
      "source": [
        "Lisa.kilometraje(2000)"
      ],
      "metadata": {
        "colab": {
          "base_uri": "https://localhost:8080/"
        },
        "id": "DdioUQhDpb2F",
        "outputId": "54de57f1-7ba8-4312-f273-2aa3606f9ac4"
      },
      "execution_count": null,
      "outputs": [
        {
          "output_type": "stream",
          "name": "stdout",
          "text": [
            "Después de recorrer 2000 km tienes 3,000 km en tu kilometraje\n"
          ]
        }
      ]
    },
    {
      "cell_type": "markdown",
      "source": [
        "# Los cuatro pilares de la POO\n",
        "1. Abstracción.\n",
        "2. *Encapsulamiento*.\n",
        "3. Herencia.\n",
        "4. *Polimorfismo*."
      ],
      "metadata": {
        "id": "KADdMsQMpkmK"
      }
    }
  ]
}