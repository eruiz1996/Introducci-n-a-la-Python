{
  "nbformat": 4,
  "nbformat_minor": 0,
  "metadata": {
    "colab": {
      "provenance": [],
      "authorship_tag": "ABX9TyNZpC9g2KSn+leqOS27CvFt",
      "include_colab_link": true
    },
    "kernelspec": {
      "name": "python3",
      "display_name": "Python 3"
    },
    "language_info": {
      "name": "python"
    }
  },
  "cells": [
    {
      "cell_type": "markdown",
      "metadata": {
        "id": "view-in-github",
        "colab_type": "text"
      },
      "source": [
        "<a href=\"https://colab.research.google.com/github/eruiz1996/Introducci-n-a-la-Python/blob/main/3_Funciones.ipynb\" target=\"_parent\"><img src=\"https://colab.research.google.com/assets/colab-badge.svg\" alt=\"Open In Colab\"/></a>"
      ]
    },
    {
      "cell_type": "markdown",
      "source": [
        "# Introducción\n",
        "Las funciones son bloques de código reutilizables que realizan una tarea específica. En Python, las funciones se definen utilizando la palabra clave `def` seguida del nombre de la función y paréntesis que pueden contener argumentos.\n",
        "\n",
        "Ventajas de usar funciones:\n",
        "* **Reutilización** de código: Una vez que defines una función, puedes llamarla en cualquier parte de tu programa, evitando duplicar código.\n",
        "\n",
        "* **Modularidad**: Permite dividir un programa en partes más pequeñas y manejables. Cada función se encarga de una tarea específica.\n",
        "\n",
        "* Facilita la **lectura** y **comprensión** del código: Al utilizar funciones, el código se vuelve más legible y fácil de entender, ya que cada función se centra en una tarea concreta.\n",
        "\n",
        "# Sintaxis\n",
        "\n",
        "    def nombre_de_la_funcion(argumentos):\n",
        "      # Cuerpo de la función\n",
        "      # Puedes realizar operaciones y devolver un valor si es necesario\n",
        "      return valor\n",
        "\n",
        "# Ejemplos:\n",
        "\n",
        "1. Crear una función que dados dos números nos **devuelva** el resultado de suma.\n",
        "2. Crear una función que dados dos números nos **imprima** el resultado de suma."
      ],
      "metadata": {
        "id": "d9yK-c3kRCbL"
      }
    },
    {
      "cell_type": "code",
      "source": [
        "# respuesta ejecicio 1\n",
        "def devuelve_suma(x, y):\n",
        "  return x + y"
      ],
      "metadata": {
        "id": "wBL3cU9HTkDr"
      },
      "execution_count": null,
      "outputs": []
    },
    {
      "cell_type": "code",
      "source": [
        "devuelve_suma(9, 10)"
      ],
      "metadata": {
        "colab": {
          "base_uri": "https://localhost:8080/"
        },
        "id": "LWITrpheTs1i",
        "outputId": "61a78031-ec0e-4770-f0a4-5234ab15d6de"
      },
      "execution_count": null,
      "outputs": [
        {
          "output_type": "execute_result",
          "data": {
            "text/plain": [
              "19"
            ]
          },
          "metadata": {},
          "execution_count": 2
        }
      ]
    },
    {
      "cell_type": "code",
      "source": [
        "devuelve_suma(9, 10)\n",
        "devuelve_suma(9, -9)"
      ],
      "metadata": {
        "colab": {
          "base_uri": "https://localhost:8080/"
        },
        "id": "eqYHTXkBTwja",
        "outputId": "4d5c6d05-3904-4748-cc96-98eb25e899d7"
      },
      "execution_count": null,
      "outputs": [
        {
          "output_type": "execute_result",
          "data": {
            "text/plain": [
              "0"
            ]
          },
          "metadata": {},
          "execution_count": 3
        }
      ]
    },
    {
      "cell_type": "markdown",
      "source": [
        "¿Por qué sólo nos devuelve el último resultado?"
      ],
      "metadata": {
        "id": "Tnp3sy9NT9OC"
      }
    },
    {
      "cell_type": "code",
      "source": [
        "res1 = devuelve_suma(9, 10)\n",
        "res2 = devuelve_suma(9, 10)\n",
        "res1, res2"
      ],
      "metadata": {
        "colab": {
          "base_uri": "https://localhost:8080/"
        },
        "id": "B2IUXA04UNoD",
        "outputId": "55eab272-6eef-4659-81ea-ebe5099091f0"
      },
      "execution_count": null,
      "outputs": [
        {
          "output_type": "execute_result",
          "data": {
            "text/plain": [
              "(19, 19)"
            ]
          },
          "metadata": {},
          "execution_count": 5
        }
      ]
    },
    {
      "cell_type": "code",
      "source": [
        "# respuesta ejercicio 2\n",
        "def imprime_suma(x, y):\n",
        "  print(f'{x + y}')"
      ],
      "metadata": {
        "id": "AkDavM-eT1gh"
      },
      "execution_count": null,
      "outputs": []
    },
    {
      "cell_type": "code",
      "source": [
        "imprime_suma(9, 10)\n",
        "imprime_suma(9, -9)"
      ],
      "metadata": {
        "colab": {
          "base_uri": "https://localhost:8080/"
        },
        "id": "2DGlxo8AUJ0T",
        "outputId": "72f95f6f-7e89-4247-acb1-108615bfdd49"
      },
      "execution_count": null,
      "outputs": [
        {
          "output_type": "stream",
          "name": "stdout",
          "text": [
            "19\n",
            "0\n"
          ]
        }
      ]
    },
    {
      "cell_type": "markdown",
      "source": [
        "## Importancia del `docstring`\n",
        "El `docstring` es una herramienta esencial en Python que proporciona **documentación** integrada para funciones, módulos y clases. Consiste en un comentario de cadena de texto que describe el propósito y el comportamiento de la función. Aunque no afecta el funcionamiento del código, es invaluable para aquellos que utilizan o mantienen el código en el futuro."
      ],
      "metadata": {
        "id": "7EndvxUdUiAq"
      }
    },
    {
      "cell_type": "code",
      "source": [
        "def devuelve_suma(x, y):\n",
        "    \"\"\"\n",
        "    Esta función toma dos números, (x,y), y devuelve su suma.\n",
        "\n",
        "    Args:\n",
        "        x (float): El primer número.\n",
        "        y (float): El segundo número.\n",
        "\n",
        "    Returns:\n",
        "        float: La suma de x y y.\n",
        "    \"\"\"\n",
        "    return x + y\n",
        "\n",
        "suma_numeros = devuelve_suma(8.3, 10.7)\n",
        "suma_numeros"
      ],
      "metadata": {
        "colab": {
          "base_uri": "https://localhost:8080/"
        },
        "id": "Qb9nSpfpUwPZ",
        "outputId": "3bdef5aa-51dc-4d32-f144-9e6385cf8a2c"
      },
      "execution_count": null,
      "outputs": [
        {
          "output_type": "execute_result",
          "data": {
            "text/plain": [
              "19.0"
            ]
          },
          "metadata": {},
          "execution_count": 8
        }
      ]
    },
    {
      "cell_type": "markdown",
      "source": [
        "## Retornar más de un valor\n",
        "Crear una función que retorna dos valores: el **monto final** y el **interés ganado** después de un periodo de tiempo, dados el capital inicial, la tasa de interés y el número de periodos."
      ],
      "metadata": {
        "id": "VpHVU2JsYQ7p"
      }
    },
    {
      "cell_type": "code",
      "source": [
        "def calcular_interes_simple(capital, tasa, t):\n",
        "    \"\"\"\n",
        "    Esta función calcula el monto final y el interés ganado utilizando la fórmula de interés simple.\n",
        "\n",
        "    Args:\n",
        "        capital (float): Capital inicial.\n",
        "        tasa (float): La tasa de interés por periodo (en decimal).\n",
        "        t (int): El número de periodos.\n",
        "\n",
        "    Returns:\n",
        "        tuple: Una tupla con el monto final y el interés ganado.\n",
        "    \"\"\"\n",
        "    monto_final = capital * (1 + tasa * t)\n",
        "    interes_ganado = monto_final - capital\n",
        "    return monto_final, interes_ganado\n",
        "\n",
        "resultado = calcular_interes_simple(1000, 0.05, 2)\n",
        "\n",
        "# asignamos valores con base en lo definido\n",
        "monto_final, interes_ganado = resultado\n",
        "\n",
        "print(f\"El monto final es ${monto_final:,}\")\n",
        "print(f\"El interés ganado es ${interes_ganado:,}\")"
      ],
      "metadata": {
        "colab": {
          "base_uri": "https://localhost:8080/"
        },
        "id": "8FMe_MWdYPkq",
        "outputId": "4f8c4b27-2540-49a0-8371-c45f6f1a857b"
      },
      "execution_count": null,
      "outputs": [
        {
          "output_type": "stream",
          "name": "stdout",
          "text": [
            "El monto final es $1,100.0\n",
            "El interés ganado es $100.0\n"
          ]
        }
      ]
    },
    {
      "cell_type": "markdown",
      "source": [
        "## Parámetros por defecto\n",
        "Podemos asignar parámetros con un valor predeterminado a las funciones, esto suele ser útil cuando casi siempre se repite un proceso, por ejemplo, tener un parámetro `save=False` para que la función cuando se ejecute nunca guarde cambios a menos que se le indique lo contrario."
      ],
      "metadata": {
        "id": "A3gEDvxAjuv7"
      }
    },
    {
      "cell_type": "code",
      "source": [
        "def saludar(nombre = 'Usuario'):\n",
        "  \"\"\" imprime un saludo a un Usuario o a un nombre dado \"\"\"\n",
        "  print(f\"Hola, {nombre}!\")\n",
        "\n",
        "saludar()\n",
        "saludar('Edgar')"
      ],
      "metadata": {
        "colab": {
          "base_uri": "https://localhost:8080/"
        },
        "id": "uJgq2jvEkdNX",
        "outputId": "bf8190ce-1680-4b65-f256-050c75d89fd7"
      },
      "execution_count": null,
      "outputs": [
        {
          "output_type": "stream",
          "name": "stdout",
          "text": [
            "Hola, Usuario!\n",
            "Hola, Edgar!\n"
          ]
        }
      ]
    },
    {
      "cell_type": "markdown",
      "source": [
        "## Argumentos indeterminados\n",
        "`*args` y `**kwargs` son dos características poderosas de Python que te permiten manejar un número variable de argumentos en una función.\n",
        "\n",
        "### `*args` y `**kwargs`\n",
        "`*args` (Argumentos posicionales arbitrarios):\n",
        "El nombre args es solo una convención, lo importante es el asterisco (`*`) que lo precede. `*args` permite a una función aceptar un número arbitrario de argumentos posicionales. Estos argumentos se pasan a la función como una tupla.\n",
        "\n",
        "4. Crear una función que dada una tupla de números nos retorne la suma de ellos."
      ],
      "metadata": {
        "id": "iEFBueWxZseS"
      }
    },
    {
      "cell_type": "code",
      "source": [
        "def sumar_tupla(*args):\n",
        "  \"\"\" recibe una tupla y devuelve la suma de todos sus números \"\"\"\n",
        "  resultado = 0\n",
        "  for num in args:\n",
        "      resultado += num\n",
        "  return resultado\n",
        "\n",
        "print(sumar_tupla(1, 2, 3))\n",
        "print(sumar_tupla(1, 2, 3, 4, 5))\n"
      ],
      "metadata": {
        "colab": {
          "base_uri": "https://localhost:8080/"
        },
        "id": "hdwn-i8QaGf4",
        "outputId": "ed0e6481-bbf7-4b53-905c-8fdf8573713a"
      },
      "execution_count": null,
      "outputs": [
        {
          "output_type": "stream",
          "name": "stdout",
          "text": [
            "6\n",
            "15\n"
          ]
        }
      ]
    },
    {
      "cell_type": "markdown",
      "source": [
        "`**kwargs` (Argumentos de palabra clave arbitrarios):\n",
        "Similar a `*args`, `**kwargs` es solo una convención y lo importante es el doble asterisco (`**`). `**kwargs` permite a una función aceptar un número arbitrario de argumentos de palabra clave. Estos argumentos se pasan a la función como un diccionario."
      ],
      "metadata": {
        "id": "YgpQJpG8bR1a"
      }
    },
    {
      "cell_type": "code",
      "source": [
        "def imprimir_valores(**kwargs):\n",
        "  \"\"\"  \"\"\"\n",
        "  for clave, valor in kwargs.items():\n",
        "      print(f\"{clave}: {valor}\")\n",
        "\n",
        "imprimir_valores(nombre=\"Juan\", edad=30, ciudad=\"Madrid\")\n"
      ],
      "metadata": {
        "colab": {
          "base_uri": "https://localhost:8080/"
        },
        "id": "43zdUU22a88C",
        "outputId": "7269e894-5fbf-4750-b69a-51caeb6a8cb0"
      },
      "execution_count": null,
      "outputs": [
        {
          "output_type": "stream",
          "name": "stdout",
          "text": [
            "nombre: Juan\n",
            "edad: 30\n",
            "ciudad: Madrid\n"
          ]
        }
      ]
    }
  ]
}